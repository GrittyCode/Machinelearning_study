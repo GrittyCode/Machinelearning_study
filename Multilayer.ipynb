{
 "cells": [
  {
   "cell_type": "code",
   "execution_count": 2,
   "id": "df8e578c-779f-42f6-9853-f82227cc105d",
   "metadata": {},
   "outputs": [],
   "source": [
    "from tensorflow import keras\n",
    "(train_input,train_target),(test_input,test_target)= keras.datasets.fashion_mnist.load_data()"
   ]
  },
  {
   "cell_type": "code",
   "execution_count": 3,
   "id": "5b13f43d-514a-48cf-af50-5c45ae1e5012",
   "metadata": {},
   "outputs": [
    {
     "name": "stdout",
     "output_type": "stream",
     "text": [
      "변환 전:  (60000, 28, 28)\n",
      "변환 후:  (48000, 784)\n"
     ]
    }
   ],
   "source": [
    "#이미지 픽셀값을 0~255를 0~1 사이로 변환, 28x28 2차원 배열을 784크기의 1차원 배열로 펼친다.\n",
    "from sklearn.model_selection import train_test_split\n",
    "train_scaled = train_input / 255.0\n",
    "train_scaled = train_scaled.reshape(-1,28*28) #전체, 1차원배열로\n",
    "train_scaled,val_scaled,train_target,val_targaet = train_test_split(train_scaled,train_target,test_size=0.2,random_state=42)\n",
    "\n",
    "print(\"변환 전: \",train_input.shape)\n",
    "print(\"변환 후: \" , train_scaled.shape)"
   ]
  },
  {
   "cell_type": "code",
   "execution_count": 4,
   "id": "f8bb8aa2-14be-4427-9c1d-77cac463cb14",
   "metadata": {},
   "outputs": [
    {
     "name": "stdout",
     "output_type": "stream",
     "text": [
      "Model: \"sequential\"\n",
      "_________________________________________________________________\n",
      " Layer (type)                Output Shape              Param #   \n",
      "=================================================================\n",
      " dense (Dense)               (None, 100)               78500     \n",
      "                                                                 \n",
      " dense_1 (Dense)             (None, 10)                1010      \n",
      "                                                                 \n",
      "=================================================================\n",
      "Total params: 79,510\n",
      "Trainable params: 79,510\n",
      "Non-trainable params: 0\n",
      "_________________________________________________________________\n"
     ]
    }
   ],
   "source": [
    "dense1 = keras.layers.Dense(100,activation='sigmoid',input_shape=(784,))#은닉층\n",
    "dense2 = keras.layers.Dense(10,activation='softmax')#출력층\n",
    "model = keras.Sequential([dense1,dense2]) #심층 신경망을 만들때는 dense들을 리스트로 넘겨주면 된다.\n",
    "model.summary() #층에 대한 정보들을 나타내는 함수 summary"
   ]
  },
  {
   "cell_type": "code",
   "execution_count": 6,
   "id": "e45c57a1-38ed-4b14-9006-269f7fe2e07d",
   "metadata": {},
   "outputs": [
    {
     "name": "stdout",
     "output_type": "stream",
     "text": [
      "Model: \"sequential_1\"\n",
      "_________________________________________________________________\n",
      " Layer (type)                Output Shape              Param #   \n",
      "=================================================================\n",
      " hidden (Dense)              (None, 100)               78500     \n",
      "                                                                 \n",
      " output (Dense)              (None, 10)                1010      \n",
      "                                                                 \n",
      "=================================================================\n",
      "Total params: 79,510\n",
      "Trainable params: 79,510\n",
      "Non-trainable params: 0\n",
      "_________________________________________________________________\n"
     ]
    }
   ],
   "source": [
    "model = keras.Sequential([keras.layers.Dense(100,activation='sigmoid',input_shape=(784,),name ='hidden'),keras.layers.Dense(10,activation='softmax',name='output')])\n",
    "model.summary()"
   ]
  },
  {
   "cell_type": "code",
   "execution_count": 10,
   "id": "f6c88e93-dc71-4385-91e1-cf70ca433917",
   "metadata": {},
   "outputs": [],
   "source": [
    "model = keras.Sequential()\n",
    "model.add(keras.layers.Dense(100,activation='sigmoid',input_shape = (784,)))\n",
    "model.add(keras.layers.Dense(10,activation='softmax'))"
   ]
  },
  {
   "cell_type": "code",
   "execution_count": 12,
   "id": "50f18e91-9f5b-419e-bf06-d444d2d59fc8",
   "metadata": {},
   "outputs": [
    {
     "name": "stdout",
     "output_type": "stream",
     "text": [
      "Epoch 1/5\n",
      "1500/1500 [==============================] - 1s 611us/step - loss: 0.5649 - accuracy: 0.8077\n",
      "Epoch 2/5\n",
      "1500/1500 [==============================] - 1s 577us/step - loss: 0.4059 - accuracy: 0.8532\n",
      "Epoch 3/5\n",
      "1500/1500 [==============================] - 1s 571us/step - loss: 0.3717 - accuracy: 0.8653\n",
      "Epoch 4/5\n",
      "1500/1500 [==============================] - 1s 573us/step - loss: 0.3505 - accuracy: 0.8734\n",
      "Epoch 5/5\n",
      "1500/1500 [==============================] - 1s 566us/step - loss: 0.3343 - accuracy: 0.8785\n"
     ]
    },
    {
     "data": {
      "text/plain": [
       "<keras.callbacks.History at 0x1d7fee39b80>"
      ]
     },
     "execution_count": 12,
     "metadata": {},
     "output_type": "execute_result"
    }
   ],
   "source": [
    "model.compile(loss = 'sparse_categorical_crossentropy',metrics='accuracy') #모델 손실 함수와 손실 표현 방법 설정\n",
    "model.fit(train_scaled,train_target,epochs=5)"
   ]
  },
  {
   "cell_type": "code",
   "execution_count": null,
   "id": "e6076866-14ad-4a0e-a703-b8ab9ff7d258",
   "metadata": {},
   "outputs": [],
   "source": []
  }
 ],
 "metadata": {
  "kernelspec": {
   "display_name": "Python 3 (ipykernel)",
   "language": "python",
   "name": "python3"
  },
  "language_info": {
   "codemirror_mode": {
    "name": "ipython",
    "version": 3
   },
   "file_extension": ".py",
   "mimetype": "text/x-python",
   "name": "python",
   "nbconvert_exporter": "python",
   "pygments_lexer": "ipython3",
   "version": "3.9.7"
  }
 },
 "nbformat": 4,
 "nbformat_minor": 5
}
