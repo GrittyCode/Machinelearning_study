{
 "cells": [
  {
   "cell_type": "code",
   "execution_count": 1,
   "id": "dc2d922e-5f7f-4519-a633-b137f2736b42",
   "metadata": {},
   "outputs": [],
   "source": [
    "import numpy as np\n",
    "\n",
    "perch_length = np.array([8.4, 13.7, 15.0, 16.2, 17.4, 18.0, 18.7, 19.0, 19.6, 20.0, 21.0,\n",
    "       21.0, 21.0, 21.3, 22.0, 22.0, 22.0, 22.0, 22.0, 22.5, 22.5, 22.7,\n",
    "       23.0, 23.5, 24.0, 24.0, 24.6, 25.0, 25.6, 26.5, 27.3, 27.5, 27.5,\n",
    "       27.5, 28.0, 28.7, 30.0, 32.8, 34.5, 35.0, 36.5, 36.0, 37.0, 37.0,\n",
    "       39.0, 39.0, 39.0, 40.0, 40.0, 40.0, 40.0, 42.0, 43.0, 43.0, 43.5,\n",
    "       44.0])\n",
    "perch_weight = np.array([5.9, 32.0, 40.0, 51.5, 70.0, 100.0, 78.0, 80.0, 85.0, 85.0, 110.0,\n",
    "       115.0, 125.0, 130.0, 120.0, 120.0, 130.0, 135.0, 110.0, 130.0,\n",
    "       150.0, 145.0, 150.0, 170.0, 225.0, 145.0, 188.0, 180.0, 197.0,\n",
    "       218.0, 300.0, 260.0, 265.0, 250.0, 250.0, 300.0, 320.0, 514.0,\n",
    "       556.0, 840.0, 685.0, 700.0, 700.0, 690.0, 900.0, 650.0, 820.0,\n",
    "       850.0, 900.0, 1015.0, 820.0, 1100.0, 1000.0, 1100.0, 1000.0,\n",
    "       1000.0])"
   ]
  },
  {
   "cell_type": "code",
   "execution_count": 2,
   "id": "cc56293b-be97-4e3d-9116-a0b9231c5c22",
   "metadata": {},
   "outputs": [
    {
     "name": "stdout",
     "output_type": "stream",
     "text": [
      "(4,)\n",
      "(2, 2)\n",
      "(42, 1) (14, 1)\n"
     ]
    }
   ],
   "source": [
    "from sklearn.model_selection import train_test_split\n",
    "train_input,test_input,train_target,test_target = train_test_split(perch_length,perch_weight,random_state=42)\n",
    "\n",
    "test_array = np.array([1,2,3,4])\n",
    "print(test_array.shape)\n",
    "\n",
    " #reshape로 2,2 행 2 열 2의 튜플로 변환 가능\n",
    "test_array = test_array.reshape(2,2)\n",
    "print(test_array.shape) #reshape로 2,2 행 2 열 2의 튜플로 변환 가능\n",
    "\n",
    "train_input = train_input.reshape(-1,1) #-1은 전체 원소를 표현하는것\n",
    "test_input = test_input.reshape(-1,1) #이렇게 변환하는 이유는 사이킷런에서 사용할 훈련세트는 2차원 배열이 되어야하므로\n",
    "print(train_input.shape,test_input.shape)"
   ]
  },
  {
   "cell_type": "code",
   "execution_count": 3,
   "id": "86413eab-f0ef-48b4-bd67-ca7aa5bbd428",
   "metadata": {},
   "outputs": [
    {
     "name": "stdout",
     "output_type": "stream",
     "text": [
      "[1241.83860323]\n",
      "[39.01714496] -709.0186449535477\n"
     ]
    }
   ],
   "source": [
    "from sklearn.linear_model import LinearRegression\n",
    "\n",
    "lr = LinearRegression()\n",
    "\n",
    "lr.fit(train_input,train_target)\n",
    "\n",
    "print(lr.predict([[50]]))\n",
    "print(lr.coef_,lr.intercept_)\n",
    "#기울기, y절편"
   ]
  },
  {
   "cell_type": "code",
   "execution_count": 4,
   "id": "9ca68401-f9f4-4159-a1a7-6b347449b150",
   "metadata": {},
   "outputs": [
    {
     "data": {
      "image/png": "[encoded data removed]",
      "text/plain": [
       "<Figure size 432x288 with 1 Axes>"
      ]
     },
     "metadata": {
      "needs_background": "light"
     },
     "output_type": "display_data"
    }
   ],
   "source": [
    "import matplotlib.pyplot as plt\n",
    "plt.scatter(train_input, train_target)\n",
    "\n",
    "# 15~50까지의 1차 방정식 그래프를 그린다.\n",
    "plt.plot([15,50],[15 * lr.coef_ + lr.intercept_,50 * lr.coef_ +lr.intercept_])\n",
    "plt.scatter(50,1241.8,marker='^')\n",
    "plt.show()"
   ]
  },
  {
   "cell_type": "code",
   "execution_count": 5,
   "id": "871ebf5b-d7ac-4117-9bda-1a0cbb1aba23",
   "metadata": {},
   "outputs": [
    {
     "name": "stdout",
     "output_type": "stream",
     "text": [
      "0.939846333997604\n",
      "0.8247503123313558\n"
     ]
    }
   ],
   "source": [
    "print(lr.score(train_input,train_target))\n",
    "print(lr.score(test_input,test_target))\n",
    "#전체적으로 과소적합이다. 모두 점수가 낮은편. -> 1차 직선방정식이 아닌 2차방정식을 사용하자!"
   ]
  },
  {
   "cell_type": "code",
   "execution_count": 6,
   "id": "add0a681-715f-40ca-adfe-a1440f6c9d8d",
   "metadata": {},
   "outputs": [
    {
     "name": "stdout",
     "output_type": "stream",
     "text": [
      "(42, 2)\n",
      "(14, 2)\n"
     ]
    }
   ],
   "source": [
    "#2차 방정식을 위해선 train_input의 데이터에 원래 특성의 제곱값이 필요.\n",
    "train_poly = np.column_stack((train_input ** 2, train_input))\n",
    "test_poly = np.column_stack((test_input ** 2, test_input))\n",
    "#브로드 캐스팅으로 해당 train,test_input의 모든 원소의 제곱을 시행\n",
    "\n",
    "print(train_poly.shape)\n",
    "print(test_poly.shape)"
   ]
  },
  {
   "cell_type": "code",
   "execution_count": 7,
   "id": "3c4f87dd-7f5d-4cfa-a372-982105a7c2fa",
   "metadata": {},
   "outputs": [
    {
     "name": "stdout",
     "output_type": "stream",
     "text": [
      "[1573.98423528]\n",
      "[  1.01433211 -21.55792498] 116.05021078278304\n"
     ]
    }
   ],
   "source": [
    "lr = LinearRegression()\n",
    "lr.fit(train_poly,train_target)\n",
    "print(lr.predict([[50**2, 50]]))\n",
    "print(lr.coef_,lr.intercept_)"
   ]
  },
  {
   "cell_type": "code",
   "execution_count": 8,
   "id": "25153fcc-82a3-4674-b676-db930f3c2d87",
   "metadata": {},
   "outputs": [
    {
     "data": {
      "image/png": "[encoded data removed]",
      "text/plain": [
       "<Figure size 432x288 with 1 Axes>"
      ]
     },
     "metadata": {
      "needs_background": "light"
     },
     "output_type": "display_data"
    }
   ],
   "source": [
    "point = np.arange(15,50)\n",
    "\n",
    "plt.scatter(train_input,train_target)\n",
    "plt.plot(point, 1.01* point ** 2 - 21.6 * point + 116.05)\n",
    "\n",
    "plt.scatter(50,1574,marker='^')\n",
    "plt.xlabel('length')\n",
    "plt.ylabel('weight')\n",
    "plt.show()"
   ]
  },
  {
   "cell_type": "code",
   "execution_count": 9,
   "id": "509a9dd3-2f10-49b7-9a34-43ec7436475f",
   "metadata": {},
   "outputs": [
    {
     "name": "stdout",
     "output_type": "stream",
     "text": [
      "0.9706807451768623\n",
      "0.9775935108325122\n"
     ]
    }
   ],
   "source": [
    "print(lr.score(train_poly,train_target))\n",
    "print(lr.score(test_poly,test_target))\n",
    "#과소적합이 조금 남아있다."
   ]
  },
  {
   "cell_type": "code",
   "execution_count": 10,
   "id": "755d0253-f8e5-40e6-88c0-2c48db056fb6",
   "metadata": {},
   "outputs": [
    {
     "name": "stdout",
     "output_type": "stream",
     "text": [
      "[[ 8.4   2.11  1.41]\n",
      " [13.7   3.53  2.  ]\n",
      " [15.    3.82  2.43]\n",
      " [16.2   4.59  2.63]\n",
      " [17.4   4.59  2.94]\n",
      " [18.    5.22  3.32]\n",
      " [18.7   5.2   3.12]\n",
      " [19.    5.64  3.05]\n",
      " [19.6   5.14  3.04]\n",
      " [20.    5.08  2.77]\n",
      " [21.    5.69  3.56]\n",
      " [21.    5.92  3.31]\n",
      " [21.    5.69  3.67]\n",
      " [21.3   6.38  3.53]\n",
      " [22.    6.11  3.41]\n",
      " [22.    5.64  3.52]\n",
      " [22.    6.11  3.52]\n",
      " [22.    5.88  3.52]\n",
      " [22.    5.52  4.  ]\n",
      " [22.5   5.86  3.62]\n",
      " [22.5   6.79  3.62]\n",
      " [22.7   5.95  3.63]\n",
      " [23.    5.22  3.63]\n",
      " [23.5   6.28  3.72]\n",
      " [24.    7.29  3.72]\n",
      " [24.    6.38  3.82]\n",
      " [24.6   6.73  4.17]\n",
      " [25.    6.44  3.68]\n",
      " [25.6   6.56  4.24]\n",
      " [26.5   7.17  4.14]\n",
      " [27.3   8.32  5.14]\n",
      " [27.5   7.17  4.34]\n",
      " [27.5   7.05  4.34]\n",
      " [27.5   7.28  4.57]\n",
      " [28.    7.82  4.2 ]\n",
      " [28.7   7.59  4.64]\n",
      " [30.    7.62  4.77]\n",
      " [32.8  10.03  6.02]\n",
      " [34.5  10.26  6.39]\n",
      " [35.   11.49  7.8 ]\n",
      " [36.5  10.88  6.86]\n",
      " [36.   10.61  6.74]\n",
      " [37.   10.84  6.26]\n",
      " [37.   10.57  6.37]\n",
      " [39.   11.14  7.49]\n",
      " [39.   11.14  6.  ]\n",
      " [39.   12.43  7.35]\n",
      " [40.   11.93  7.11]\n",
      " [40.   11.73  7.22]\n",
      " [40.   12.38  7.46]\n",
      " [40.   11.14  6.63]\n",
      " [42.   12.8   6.87]\n",
      " [43.   11.93  7.28]\n",
      " [43.   12.51  7.42]\n",
      " [43.5  12.6   8.14]\n",
      " [44.   12.49  7.6 ]]\n"
     ]
    }
   ],
   "source": [
    "import pandas as pd\n",
    "df = pd.read_csv('https://bit.ly/perch_csv_data')\n",
    "perch_full = df.to_numpy()\n",
    "print(perch_full)"
   ]
  },
  {
   "cell_type": "code",
   "execution_count": 11,
   "id": "a7971d69-79f7-4807-a7e5-3c0b7fd89bfb",
   "metadata": {},
   "outputs": [],
   "source": [
    "import numpy as np\n",
    "\n",
    "perch_weight = np.array([5.9, 32.0, 40.0, 51.5, 70.0, 100.0, 78.0, 80.0, 85.0, 85.0, 110.0,\n",
    "       115.0, 125.0, 130.0, 120.0, 120.0, 130.0, 135.0, 110.0, 130.0,\n",
    "       150.0, 145.0, 150.0, 170.0, 225.0, 145.0, 188.0, 180.0, 197.0,\n",
    "       218.0, 300.0, 260.0, 265.0, 250.0, 250.0, 300.0, 320.0, 514.0,\n",
    "       556.0, 840.0, 685.0, 700.0, 700.0, 690.0, 900.0, 650.0, 820.0,\n",
    "       850.0, 900.0, 1015.0, 820.0, 1100.0, 1000.0, 1100.0, 1000.0,\n",
    "       1000.0])\n",
    "\n",
    "from sklearn.model_selection import train_test_split\n",
    "train_input,test_input,train_target,test_target = train_test_split(perch_full,perch_weight,random_state=42)\n"
   ]
  },
  {
   "cell_type": "code",
   "execution_count": 12,
   "id": "e0f05ba4-423f-4101-b440-ae745141d202",
   "metadata": {},
   "outputs": [
    {
     "name": "stdout",
     "output_type": "stream",
     "text": [
      "[[1. 2. 3. 4. 6. 9.]]\n"
     ]
    }
   ],
   "source": [
    "from sklearn.preprocessing import PolynomialFeatures\n",
    "\n",
    "poly =PolynomialFeatures()\n",
    "poly.fit([[2,3]])\n",
    "print(poly.transform([[2,3]]))"
   ]
  },
  {
   "cell_type": "code",
   "execution_count": 16,
   "id": "86c2aae0-19ce-4100-ab5a-4ebcda3be20c",
   "metadata": {},
   "outputs": [
    {
     "name": "stdout",
     "output_type": "stream",
     "text": [
      "(42, 9)\n"
     ]
    }
   ],
   "source": [
    "poly = PolynomialFeatures(include_bias=False)\n",
    "train_poly = poly.fit_transform(train_input)\n",
    "print(train_poly.shape)"
   ]
  },
  {
   "cell_type": "code",
   "execution_count": 18,
   "id": "03bebe95-1736-43cd-b4c5-4b529a1d2392",
   "metadata": {},
   "outputs": [
    {
     "data": {
      "text/plain": [
       "['x0', 'x1', 'x2', 'x0^2', 'x0 x1', 'x0 x2', 'x1^2', 'x1 x2', 'x2^2']"
      ]
     },
     "execution_count": 18,
     "metadata": {},
     "output_type": "execute_result"
    }
   ],
   "source": [
    "poly.get_feature_names()"
   ]
  },
  {
   "cell_type": "code",
   "execution_count": 19,
   "id": "85e6d98b-bee0-4854-ad4b-8a10da59aa71",
   "metadata": {},
   "outputs": [],
   "source": [
    "test_poly = poly.transform(test_input)"
   ]
  },
  {
   "cell_type": "code",
   "execution_count": 21,
   "id": "fbe1e819-1c2b-4fe2-a3bb-10f95a0b3d5e",
   "metadata": {},
   "outputs": [
    {
     "name": "stdout",
     "output_type": "stream",
     "text": [
      "TrainScore :  0.9903183436982124\n",
      "TestScore :  0.9714559911594203\n"
     ]
    }
   ],
   "source": [
    "from sklearn.linear_model import LinearRegression\n",
    "lr = LinearRegression()\n",
    "lr.fit(train_poly,train_target)\n",
    "print('TrainScore : ' ,lr.score(train_poly,train_target))\n",
    "print('TestScore : ' ,lr.score(test_poly,test_target))"
   ]
  },
  {
   "cell_type": "code",
   "execution_count": 23,
   "id": "8347a876-5177-490c-9cc9-d4cf77e1dc84",
   "metadata": {},
   "outputs": [
    {
     "name": "stdout",
     "output_type": "stream",
     "text": [
      "(42, 55)\n"
     ]
    }
   ],
   "source": [
    "poly = PolynomialFeatures(degree = 5, include_bias=False)\n",
    "poly.fit(train_input)\n",
    "train_poly = poly.transform(train_input)\n",
    "test_poly = poly.transform(test_input)\n",
    "print(train_poly.shape)\n",
    "#5차수로 특성이 55개나 생긴다."
   ]
  },
  {
   "cell_type": "code",
   "execution_count": 24,
   "id": "fdeb2573-74b7-4b60-b320-84104a943489",
   "metadata": {},
   "outputs": [
    {
     "name": "stdout",
     "output_type": "stream",
     "text": [
      "TrainScore :  0.999999999997515\n",
      "TestScore :  -144.40196592191958\n"
     ]
    }
   ],
   "source": [
    "lr.fit(train_poly,train_target)\n",
    "print('TrainScore : ' ,lr.score(train_poly,train_target))\n",
    "print('TestScore : ' ,lr.score(test_poly,test_target))\n",
    "#특성이 너무 많아 엄청난 과대적합이 일어난다.\n",
    "#과대적합 해결 -> 규제라는 기능을 사용"
   ]
  },
  {
   "cell_type": "code",
   "execution_count": 25,
   "id": "0ee73694-75ad-4568-943c-dc5fd3d4e8c7",
   "metadata": {},
   "outputs": [],
   "source": [
    "#규제란, 머신러닝 모델이 훈련 세트를 너무 과도하게 학습하지못하도록 훼방하는 것을 말한다.\n",
    "#선형 회귀 모델의 경우 특성에 곱해지는 계수의크기를 작게 만들어 시행\n",
    "\n",
    "\n",
    "#규제를 하기 이전에, 각 특성들간의 값들을 정규화해줘 모든 특성이 공정하게 제어되도록 해주기 위해 StandaraScaler라는 것을 import해준다.\n",
    "from sklearn.preprocessing import StandardScaler\n",
    "ss = StandardScaler()\n",
    "ss.fit(train_poly)#훈련 특성을 맞춰준다.\n",
    "train_scaled = ss.transform(train_poly) #정규화된 특성으로 반환\n",
    "test_scaled = ss.transform(test_poly)"
   ]
  },
  {
   "cell_type": "code",
   "execution_count": 27,
   "id": "84087e14-914b-4d76-abb3-61aa4273ccdd",
   "metadata": {},
   "outputs": [
    {
     "name": "stdout",
     "output_type": "stream",
     "text": [
      "0.9896101671037343\n",
      "0.9790693977615398\n"
     ]
    }
   ],
   "source": [
    "from sklearn.linear_model import Ridge\n",
    "ridge = Ridge()\n",
    "ridge.fit(train_scaled,train_target)\n",
    "print(ridge.score(train_scaled,train_target))\n",
    "print(ridge.score(test_scaled,test_target))"
   ]
  },
  {
   "cell_type": "code",
   "execution_count": 28,
   "id": "e14ce79e-5dd1-4927-9283-e5db527e6b49",
   "metadata": {},
   "outputs": [
    {
     "data": {
      "image/png": "[encoded data removed]",
      "text/plain": [
       "<Figure size 432x288 with 1 Axes>"
      ]
     },
     "metadata": {
      "needs_background": "light"
     },
     "output_type": "display_data"
    }
   ],
   "source": [
    "import matplotlib.pyplot as plt\n",
    "train_score = []\n",
    "test_score = []\n",
    "\n",
    "\n",
    "alpha_list = [0.001,0.01,0.1,1,10,100]\n",
    "for alpha in alpha_list:\n",
    "    #릿지 모델 생성\n",
    "    ridge = Ridge(alpha= alpha)\n",
    "    #릿지 모델 훈련\n",
    "    ridge.fit(train_scaled,train_target)\n",
    "    #훈련 점수와 테스트 점수 저장\n",
    "    train_score.append(ridge.score(train_scaled,train_target))\n",
    "    test_score.append(ridge.score(test_scaled,test_target))\n",
    "\n",
    "plt.plot(np.log10(alpha_list),train_score)\n",
    "plt.plot(np.log10(alpha_list),test_score)\n",
    "plt.xlabel('alpha')\n",
    "plt.ylabel('R^2')\n",
    "plt.show()\n",
    "#그래프를 분석해보면 -1일때, 가장 test와 train의 점수가 근접하기때문에 가장 적절한 하이퍼 파라미터는 -1 즉 10^-1 = 0.1이다."
   ]
  },
  {
   "cell_type": "code",
   "execution_count": 29,
   "id": "c3a65cc2-44a6-4a22-9503-c1ac53e2772c",
   "metadata": {},
   "outputs": [
    {
     "name": "stdout",
     "output_type": "stream",
     "text": [
      "0.9903815817570362\n",
      "0.9827976465386904\n"
     ]
    }
   ],
   "source": [
    "ridge = Ridge(alpha=0.1)#최적의 하이퍼파라미터를 찾았다.\n",
    "ridge.fit(train_scaled,train_target)\n",
    "print(ridge.score(train_scaled,train_target))\n",
    "print(ridge.score(test_scaled,test_target))\n",
    "#훈련,테스트간의 과소적합도 없고 정확도도 높다."
   ]
  },
  {
   "cell_type": "code",
   "execution_count": 40,
   "id": "b25ed223-1fd7-4491-815d-134b862f34ac",
   "metadata": {},
   "outputs": [
    {
     "name": "stdout",
     "output_type": "stream",
     "text": [
      "0.989789897208096\n",
      "0.9800593698421886\n"
     ]
    }
   ],
   "source": [
    "#이번엔 라쏘 회귀를 실험해보자.\n",
    "from sklearn.linear_model import Lasso\n",
    "lasso = Lasso()\n",
    "lasso.fit(train_scaled,train_target)\n",
    "print(lasso.score(train_scaled,train_target))\n",
    "print(lasso.score(test_scaled,test_target))"
   ]
  },
  {
   "cell_type": "code",
   "execution_count": 45,
   "id": "18a3c64b-da22-4625-9aef-617151333633",
   "metadata": {},
   "outputs": [
    {
     "name": "stderr",
     "output_type": "stream",
     "text": [
      "C:\\Users\\kangh\\anaconda3\\lib\\site-packages\\sklearn\\linear_model\\_coordinate_descent.py:530: ConvergenceWarning: Objective did not converge. You might want to increase the number of iterations. Duality gap: 18778.69795779601, tolerance: 518.2793833333334\n",
      "  model = cd_fast.enet_coordinate_descent(\n",
      "C:\\Users\\kangh\\anaconda3\\lib\\site-packages\\sklearn\\linear_model\\_coordinate_descent.py:530: ConvergenceWarning: Objective did not converge. You might want to increase the number of iterations. Duality gap: 12972.821345409666, tolerance: 518.2793833333334\n",
      "  model = cd_fast.enet_coordinate_descent(\n"
     ]
    }
   ],
   "source": [
    "import matplotlib.pyplot as plt\n",
    "train_score = []\n",
    "test_score = []\n",
    "\n",
    "\n",
    "alpha_list = [0.001,0.01,0.1,1,10,100]\n",
    "\n",
    "for alpha in alpha_list:\n",
    "    lasso = Lasso(alpha = alpha, max_iter=10000)\n",
    "    lasso.fit(train_scaled,train_target)\n",
    "    train_score.append(lasso.score(train_scaled,train_target))\n",
    "    test_score.append(lasso.score(test_scaled,test_target))"
   ]
  },
  {
   "cell_type": "code",
   "execution_count": 46,
   "id": "dffd6bc0-d697-479e-816f-b61253154fb0",
   "metadata": {},
   "outputs": [
    {
     "data": {
      "image/png": "[encoded data removed]",
      "text/plain": [
       "<Figure size 432x288 with 1 Axes>"
      ]
     },
     "metadata": {
      "needs_background": "light"
     },
     "output_type": "display_data"
    }
   ],
   "source": [
    "plt.plot(np.log10(alpha_list),train_score)\n",
    "plt.plot(np.log10(alpha_list),test_score)\n",
    "plt.xlabel('alpha')\n",
    "plt.ylabel('R^2')\n",
    "plt.show()\n",
    "#그래프 분석 결과 최적의 값은 1, 2는 너무 점수가 떨어진다."
   ]
  },
  {
   "cell_type": "code",
   "execution_count": 47,
   "id": "3094a35c-ed2e-41c4-9def-41712d2a8751",
   "metadata": {},
   "outputs": [
    {
     "name": "stdout",
     "output_type": "stream",
     "text": [
      "0.9888067471131867\n",
      "0.9824470598706695\n"
     ]
    }
   ],
   "source": [
    "lasso = Lasso(alpha = 10)\n",
    "lasso.fit(train_scaled,train_target)\n",
    "print(lasso.score(train_scaled,train_target))\n",
    "print(lasso.score(test_scaled,test_target))"
   ]
  },
  {
   "cell_type": "code",
   "execution_count": 48,
   "id": "8bda9b3c-b232-464e-bf64-a9974140f994",
   "metadata": {},
   "outputs": [
    {
     "name": "stdout",
     "output_type": "stream",
     "text": [
      "40\n"
     ]
    }
   ],
   "source": [
    "print(np.sum(lasso.coef_ == 0)) #사용한 특성은 15개라는 것을 반증\n",
    "#머신러닝 흐름도 -> 모델 선정 -> 특성 선정 -> 선정한 특성으로 훈련 -> 테스트로 점수 확인\n",
    "#고급 과소적합이라면 특성을 늘려주는 PolynomialFeatures로 존재하는 특성으로 새로운 특성들을 생성 가능 기본 차수 degree는 2이다.\n",
    "#만약 과대적합이라면 특성의 계수나 기울기를 조절해주는 Ridge나 Lasso를 이용해 과대적합을 줄여준다.\n",
    "#이들의 최적의 하이퍼 파라미터 값 alpha를 찾기 위해서는 for문을 이용해 train과 test에 대한 그래프를 그려봐 서로의 차이가 가장 적으며 점수도 높은것을 선정해주면 된다.\n",
    "#또한, 규제를 하기 이전에, 각 특성들간의 값들을 정규화해줘 모든 특성이 공정하게 제어되도록 해주기 위해 StandaraScaler라는 것을 import해준다.\n",
    "\n",
    "'''\n",
    "아래가 모든 특성들간의 정규화를 진행한 예시이다. 여기선 StandardScaler를 사용했다.\n",
    "from sklearn.preprocessing import StandardScaler\n",
    "ss = StandardScaler()\n",
    "ss.fit(train_poly)#특성들을 모델에 훈련시켜줘야 transform으로 정규환 된 값으로 변환해줄수있다.\n",
    "train_scaled = ss.transform(train_poly) #정규화된 특성으로 반환\n",
    "test_scaled = ss.transform(test_poly)\n",
    "'''\n"
   ]
  },
  {
   "cell_type": "code",
   "execution_count": null,
   "id": "d51ae2b2-3c7c-4e9f-b976-b6dbde88b8fe",
   "metadata": {},
   "outputs": [],
   "source": []
  }
 ],
 "metadata": {
  "kernelspec": {
   "display_name": "Python 3 (ipykernel)",
   "language": "python",
   "name": "python3"
  },
  "language_info": {
   "codemirror_mode": {
    "name": "ipython",
    "version": 3
   },
   "file_extension": ".py",
   "mimetype": "text/x-python",
   "name": "python",
   "nbconvert_exporter": "python",
   "pygments_lexer": "ipython3",
   "version": "3.9.7"
  }
 },
 "nbformat": 4,
 "nbformat_minor": 5
}
