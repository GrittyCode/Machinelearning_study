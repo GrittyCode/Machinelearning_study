{
 "cells": [
  {
   "cell_type": "code",
   "execution_count": 4,
   "id": "d9370d17-c0e3-44af-b35a-04444ff93b39",
   "metadata": {},
   "outputs": [
    {
     "name": "stdout",
     "output_type": "stream",
     "text": [
      "tf.Tensor(3, shape=(), dtype=int32)\n",
      "tf.Tensor([3 4 5], shape=(3,), dtype=int32)\n"
     ]
    }
   ],
   "source": [
    "import tensorflow as tf\n",
    "\n",
    "텐서 = tf.constant(3)\n",
    "print(텐서)\n",
    "텐서 = tf.constant([3,4,5])\n",
    "print(텐서)"
   ]
  },
  {
   "cell_type": "code",
   "execution_count": 7,
   "id": "ddbde5b0-9ab1-4867-b27c-e1d9c0b845eb",
   "metadata": {},
   "outputs": [
    {
     "name": "stdout",
     "output_type": "stream",
     "text": [
      "tf.Tensor([ 9 11 13], shape=(3,), dtype=int32)\n",
      "tf.Tensor(\n",
      "[[2 4]\n",
      " [6 8]], shape=(2, 2), dtype=int32)\n"
     ]
    }
   ],
   "source": [
    "#텐서 숫자, 리스트를 담는 곳 쓰는 이유 = 행렬의 성질을 이용해 많은 계산을 간편하게 가능\n",
    "\n",
    "#예시\n",
    "텐서 = tf.constant([3,4,5])\n",
    "텐서2 = tf.constant([6,7,8])\n",
    "print(텐서 + 텐서2)\n",
    "\n",
    "#행렬 표현 -> 2차원 리스트\n",
    "텐서3 = tf.constant([[1,2]\n",
    "                    ,[3,4]])\n",
    "\n",
    "텐서4 = tf.constant([[1,2]\n",
    "                    ,[3,4]])\n",
    "\n",
    "print(tf.add(텐서3, 텐서4))\n",
    "#add,substract,divide,multiply,matmul() 행렬 곱셉 연산"
   ]
  },
  {
   "cell_type": "code",
   "execution_count": 9,
   "id": "c3dcdb6c-ea13-4343-83b4-3cea370a06d5",
   "metadata": {},
   "outputs": [
    {
     "name": "stdout",
     "output_type": "stream",
     "text": [
      "tf.Tensor([0. 0. 0. 0. 0. 0. 0. 0. 0. 0.], shape=(10,), dtype=float32)\n",
      "tf.Tensor(\n",
      "[[0. 0.]\n",
      " [0. 0.]], shape=(2, 2), dtype=float32)\n"
     ]
    }
   ],
   "source": [
    "제로 = tf.zeros(10) #0이 10개로 가득찬 텐서 생성\n",
    "print(제로)\n",
    "제로행렬 = tf.zeros([2,2])\n",
    "print(제로행렬)"
   ]
  },
  {
   "cell_type": "code",
   "execution_count": null,
   "id": "55f8548d-553f-4f3e-a09a-ec0074ba1c7e",
   "metadata": {},
   "outputs": [],
   "source": []
  }
 ],
 "metadata": {
  "kernelspec": {
   "display_name": "Python 3 (ipykernel)",
   "language": "python",
   "name": "python3"
  },
  "language_info": {
   "codemirror_mode": {
    "name": "ipython",
    "version": 3
   },
   "file_extension": ".py",
   "mimetype": "text/x-python",
   "name": "python",
   "nbconvert_exporter": "python",
   "pygments_lexer": "ipython3",
   "version": "3.9.7"
  }
 },
 "nbformat": 4,
 "nbformat_minor": 5
}
